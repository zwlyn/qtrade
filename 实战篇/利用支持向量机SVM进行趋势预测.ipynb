{
 "cells": [
  {
   "cell_type": "code",
   "execution_count": 1,
   "metadata": {},
   "outputs": [],
   "source": [
    "\"\"\"\n",
    "- Skearn库是Python机器中常用的第三方库，其中对常用的机器学习方法、模型评估、数据预处理和特征提取方法进行了封装\n",
    "\"\"\"\n",
    "# 数据准备\n",
    "import tushare as ts\n",
    "import numpy as np\n",
    "import pandas as pd\n",
    "import matplotlib.pyplot as plt\n",
    "import time\n",
    "\n",
    "\n",
    "def get_data(code, start, end, window_len=20):\n",
    "    # 数据获取\n",
    "    # 1.数据准备\n",
    "    pro = ts.pro_api(\"20231208200557-1a9c3fbc-4615-474e-8445-26c2a0019fc0\")\n",
    "    pro._DataApi__http_url = \"http://tsapi.majors.ltd:7000\"\n",
    "    df = pro.daily(\n",
    "        ts_code=code,\n",
    "        start_date=start,\n",
    "        end_date=end,\n",
    "        fields=\"ts_code,trade_date,open,close\",\n",
    "    )\n",
    "    df = df.reindex(index=df.index[::-1])\n",
    "    # 索引重新编号\n",
    "    df = df.reset_index(drop=True)\n",
    "    # 判断涨跌\n",
    "    df[\"label\"] = df[\"close\"] - df[\"open\"]\n",
    "    # 转换为二维数组\n",
    "    arr = df[[\"close\", \"label\"]].values\n",
    "    # 特征提取及标注标签\n",
    "    X = []\n",
    "    Label = []\n",
    "    window_len = 20\n",
    "    # 遍历数组\n",
    "    for i in range(len(arr) - window_len - 1):\n",
    "        X.append(arr[i : i + window_len, 0])\n",
    "        if arr[i + window_len, 1] > 0:\n",
    "            Label.append(1)\n",
    "        else:\n",
    "            Label.append(0)\n",
    "\n",
    "    # 划分训练集和测试集\n",
    "    train_len = int(len(X) / 3) * 2\n",
    "    X_train = X[:train_len]\n",
    "    Label_train = Label[:train_len]\n",
    "    X_test = X[train_len:]\n",
    "    Label_test = Label[train_len:]\n",
    "    return X_train, Label_train, X_test, Label_test\n",
    "\n"
   ]
  },
  {
   "cell_type": "code",
   "execution_count": 2,
   "metadata": {},
   "outputs": [],
   "source": [
    "X_train, Label_train, X_test, Label_test = get_data(\"000001.SZ\", \"20230101\", \"20231201\")"
   ]
  },
  {
   "cell_type": "code",
   "execution_count": 33,
   "metadata": {},
   "outputs": [],
   "source": [
    "# X_train"
   ]
  },
  {
   "cell_type": "code",
   "execution_count": 3,
   "metadata": {},
   "outputs": [
    {
     "name": "stdout",
     "output_type": "stream",
     "text": [
      "[0 0 0 0 0 0 0 0 0 1 1 0 0 0 0 0 1 1 0 0 0 0 0 1 1 1 0 0 0 0 0 1 1 0 0 0 0\n",
      " 1 1 1 1 0 0 0 0 0 1 0 0 0 0 0 0 0 0 1 0 1 0 0 0 0 0 0 0 0 0 0 0 0 0 0 0 0\n",
      " 0 0 0 0 0 1 1 1 0 0 1 0 0 0 1 1 1 0 0 0 1 1 0 0 0 0 0 0 0 1 1 1 1 0 0 0 0\n",
      " 0 0 0 0 0 0 0 0 0 0 0 0 0 0 0 0 0 0 0 0 0 0 0]\n"
     ]
    }
   ],
   "source": [
    "from sklearn.svm import SVC\n",
    "# 实例化SVM模型\n",
    "svm = SVC(kernel='linear')\n",
    "# 模型训练\n",
    "svm.fit(X_train, Label_train)\n",
    "# 模型预测结果\n",
    "prediction = svm.predict(X_train)\n",
    "print(prediction)"
   ]
  },
  {
   "cell_type": "code",
   "execution_count": 4,
   "metadata": {},
   "outputs": [
    {
     "data": {
      "text/plain": [
       "134"
      ]
     },
     "execution_count": 4,
     "metadata": {},
     "output_type": "execute_result"
    }
   ],
   "source": [
    "len(Label_train)"
   ]
  },
  {
   "cell_type": "code",
   "execution_count": null,
   "metadata": {},
   "outputs": [],
   "source": []
  },
  {
   "cell_type": "code",
   "execution_count": 5,
   "metadata": {},
   "outputs": [
    {
     "name": "stdout",
     "output_type": "stream",
     "text": [
      "0.6492537313432836\n"
     ]
    }
   ],
   "source": [
    "from sklearn.metrics import accuracy_score\n",
    "# 计算模型预测准确率\n",
    "print(accuracy_score(Label_train, prediction))"
   ]
  },
  {
   "cell_type": "code",
   "execution_count": 6,
   "metadata": {},
   "outputs": [
    {
     "name": "stdout",
     "output_type": "stream",
     "text": [
      "0.4925373134328358\n"
     ]
    }
   ],
   "source": [
    "# 模型预测结果\n",
    "prediction = svm.predict(X_test)\n",
    "print(accuracy_score(Label_test, prediction))"
   ]
  },
  {
   "cell_type": "code",
   "execution_count": 6,
   "metadata": {},
   "outputs": [],
   "source": [
    "import talib\n",
    "# 通过ATR,RSI,CCI,MA等指标及收盘价来预测第二天的涨跌\n",
    "def get_data2(code, start, end, timeperiod=14):\n",
    "    # 数据获取\n",
    "    # 1.数据准备\n",
    "    pro = ts.pro_api(\"20231208200557-1a9c3fbc-4615-474e-8445-26c2a0019fc0\")\n",
    "    pro._DataApi__http_url = \"http://tsapi.majors.ltd:7000\"\n",
    "    df = pro.daily(\n",
    "        ts_code=code,\n",
    "        start_date=start,\n",
    "        end_date=end,\n",
    "        fields=\"ts_code,trade_date,open,close, high, low\",\n",
    "    )\n",
    "    df = df.reindex(index=df.index[::-1])\n",
    "    # 索引重新编号\n",
    "    df = df.reset_index(drop=True)\n",
    "    # 判断涨跌\n",
    "    df[\"label\"] = df[\"close\"] - df[\"open\"]\n",
    "    # 计算其他指标\n",
    "    df['MA'] = talib.MA(df['close'], timeperiod=timeperiod)\n",
    "    df['ATR'] = talib.ATR(df['high'], df['low'], df['close'], timeperiod=timeperiod)\n",
    "    df['RSI'] = talib.RSI(df['close'], timeperiod=timeperiod)\n",
    "    df['CCI'] = talib.CCI(df['high'], df['low'], df['close'], timeperiod=timeperiod)\n",
    "    # 删除包含空值的行数据\n",
    "    df = df.dropna()\n",
    "    # 转换为二维数组\n",
    "    arr = df[[\"close\", \"label\", 'MA', 'ATR', 'RSI', 'CCI']].values\n",
    "    # 特征提取及标注标签\n",
    "    X = []\n",
    "    Label = []\n",
    "    window_len = 20\n",
    "    # 遍历数组\n",
    "    for i in range(len(arr) - window_len - 1):\n",
    "        X.append(arr[i : i + window_len, 0])\n",
    "        if arr[i + window_len, 1] > 0:\n",
    "            Label.append(1)\n",
    "        else:\n",
    "            Label.append(0)\n",
    "\n",
    "    # 划分训练集和测试集\n",
    "    train_len = int(len(X) / 3) * 2\n",
    "    X_train = X[:train_len]\n",
    "    Label_train = Label[:train_len]\n",
    "    X_test = X[train_len:]\n",
    "    Label_test = Label[train_len:]\n",
    "    return X_train, Label_train, X_test, Label_test"
   ]
  },
  {
   "cell_type": "code",
   "execution_count": 15,
   "metadata": {},
   "outputs": [
    {
     "name": "stdout",
     "output_type": "stream",
     "text": [
      "0.5576923076923077\n"
     ]
    }
   ],
   "source": [
    "from sklearn.svm import SVC\n",
    "from sklearn.metrics import accuracy_score\n",
    "\n",
    "X_train, Label_train, X_test, Label_test = get_data2(\"000001.SZ\", \"20180101\", \"20231201\")\n",
    "# 实例化SVM模型\n",
    "svm = SVC(kernel='linear')\n",
    "# 模型训练\n",
    "svm.fit(X_train, Label_train)\n",
    "# 模型预测结果\n",
    "prediction = svm.predict(X_test)\n",
    "print(accuracy_score(Label_test, prediction))"
   ]
  },
  {
   "cell_type": "code",
   "execution_count": 16,
   "metadata": {},
   "outputs": [
    {
     "name": "stdout",
     "output_type": "stream",
     "text": [
      "0.5578158458244111\n"
     ]
    }
   ],
   "source": [
    "# 实例化SVM模型\n",
    "svm = SVC(kernel=\"linear\")\n",
    "# 模型训练\n",
    "svm.fit(X_train, Label_train)\n",
    "# 模型预测结果\n",
    "prediction = svm.predict(X_train)\n",
    "print(accuracy_score(Label_train, prediction))"
   ]
  },
  {
   "cell_type": "code",
   "execution_count": null,
   "metadata": {},
   "outputs": [],
   "source": []
  },
  {
   "cell_type": "code",
   "execution_count": 7,
   "metadata": {},
   "outputs": [],
   "source": [
    "\"\"\"\n",
    "- Skearn库是Python机器中常用的第三方库，其中对常用的机器学习方法、模型评估、数据预处理和特征提取方法进行了封装\n",
    "\"\"\"\n",
    "\n",
    "# 数据准备\n",
    "import tushare as ts\n",
    "import numpy as np\n",
    "import pandas as pd\n",
    "import matplotlib.pyplot as plt\n",
    "import time\n",
    "\n",
    "\n",
    "def get_data(code, start, end, window_len=20):\n",
    "    # 数据获取\n",
    "    # 1.数据准备\n",
    "    pro = ts.pro_api(\"20231208200557-1a9c3fbc-4615-474e-8445-26c2a0019fc0\")\n",
    "    pro._DataApi__http_url = \"http://tsapi.majors.ltd:7000\"\n",
    "    df = pro.daily(\n",
    "        ts_code=code,\n",
    "        start_date=start,\n",
    "        end_date=end,\n",
    "        fields=\"ts_code,trade_date,open,close\",\n",
    "    )\n",
    "    df = df.reindex(index=df.index[::-1])\n",
    "    # 索引重新编号\n",
    "    df = df.reset_index(drop=True)\n",
    "    # 判断涨跌\n",
    "    df[\"label\"] = df[\"close\"] - df[\"open\"]\n",
    "    # 转换为二维数组\n",
    "    arr = df[[\"close\", \"label\"]].values\n",
    "    # 特征提取及标注标签\n",
    "    X = []\n",
    "    Label = []\n",
    "    window_len = 20\n",
    "    # 遍历数组\n",
    "    for i in range(len(arr) - window_len - 1):\n",
    "        X.append(arr[i : i + window_len, 0])\n",
    "        if arr[i + window_len, 1] > 0:\n",
    "            Label.append(1)\n",
    "        else:\n",
    "            Label.append(0)\n",
    "    return X, Label"
   ]
  },
  {
   "cell_type": "code",
   "execution_count": 26,
   "metadata": {},
   "outputs": [],
   "source": [
    "df = pd.read_csv('./backtrade实战/data/000001.SZ.csv')"
   ]
  },
  {
   "cell_type": "code",
   "execution_count": 28,
   "metadata": {},
   "outputs": [],
   "source": [
    "df.trade_date = pd.to_datetime(df.trade_date.apply(str))"
   ]
  },
  {
   "cell_type": "code",
   "execution_count": 30,
   "metadata": {},
   "outputs": [
    {
     "data": {
      "text/html": [
       "<div>\n",
       "<style scoped>\n",
       "    .dataframe tbody tr th:only-of-type {\n",
       "        vertical-align: middle;\n",
       "    }\n",
       "\n",
       "    .dataframe tbody tr th {\n",
       "        vertical-align: top;\n",
       "    }\n",
       "\n",
       "    .dataframe thead th {\n",
       "        text-align: right;\n",
       "    }\n",
       "</style>\n",
       "<table border=\"1\" class=\"dataframe\">\n",
       "  <thead>\n",
       "    <tr style=\"text-align: right;\">\n",
       "      <th></th>\n",
       "      <th>ts_code</th>\n",
       "      <th>trade_date</th>\n",
       "      <th>open</th>\n",
       "      <th>high</th>\n",
       "      <th>low</th>\n",
       "      <th>close</th>\n",
       "      <th>vol</th>\n",
       "    </tr>\n",
       "  </thead>\n",
       "  <tbody>\n",
       "    <tr>\n",
       "      <th>5171</th>\n",
       "      <td>000001.SZ</td>\n",
       "      <td>2022-01-04</td>\n",
       "      <td>16.48</td>\n",
       "      <td>16.66</td>\n",
       "      <td>16.18</td>\n",
       "      <td>16.66</td>\n",
       "      <td>1169259.33</td>\n",
       "    </tr>\n",
       "    <tr>\n",
       "      <th>5172</th>\n",
       "      <td>000001.SZ</td>\n",
       "      <td>2022-01-05</td>\n",
       "      <td>16.58</td>\n",
       "      <td>17.22</td>\n",
       "      <td>16.55</td>\n",
       "      <td>17.15</td>\n",
       "      <td>1961998.17</td>\n",
       "    </tr>\n",
       "    <tr>\n",
       "      <th>5173</th>\n",
       "      <td>000001.SZ</td>\n",
       "      <td>2022-01-06</td>\n",
       "      <td>17.11</td>\n",
       "      <td>17.27</td>\n",
       "      <td>17.00</td>\n",
       "      <td>17.12</td>\n",
       "      <td>1107885.19</td>\n",
       "    </tr>\n",
       "    <tr>\n",
       "      <th>5174</th>\n",
       "      <td>000001.SZ</td>\n",
       "      <td>2022-01-07</td>\n",
       "      <td>17.10</td>\n",
       "      <td>17.28</td>\n",
       "      <td>17.06</td>\n",
       "      <td>17.20</td>\n",
       "      <td>1126630.70</td>\n",
       "    </tr>\n",
       "    <tr>\n",
       "      <th>5175</th>\n",
       "      <td>000001.SZ</td>\n",
       "      <td>2022-01-10</td>\n",
       "      <td>17.29</td>\n",
       "      <td>17.42</td>\n",
       "      <td>17.03</td>\n",
       "      <td>17.19</td>\n",
       "      <td>909774.01</td>\n",
       "    </tr>\n",
       "    <tr>\n",
       "      <th>...</th>\n",
       "      <td>...</td>\n",
       "      <td>...</td>\n",
       "      <td>...</td>\n",
       "      <td>...</td>\n",
       "      <td>...</td>\n",
       "      <td>...</td>\n",
       "      <td>...</td>\n",
       "    </tr>\n",
       "    <tr>\n",
       "      <th>5677</th>\n",
       "      <td>000001.SZ</td>\n",
       "      <td>2024-02-01</td>\n",
       "      <td>9.41</td>\n",
       "      <td>9.48</td>\n",
       "      <td>9.34</td>\n",
       "      <td>9.41</td>\n",
       "      <td>1055259.87</td>\n",
       "    </tr>\n",
       "    <tr>\n",
       "      <th>5678</th>\n",
       "      <td>000001.SZ</td>\n",
       "      <td>2024-02-02</td>\n",
       "      <td>9.42</td>\n",
       "      <td>9.47</td>\n",
       "      <td>9.07</td>\n",
       "      <td>9.27</td>\n",
       "      <td>1634214.31</td>\n",
       "    </tr>\n",
       "    <tr>\n",
       "      <th>5679</th>\n",
       "      <td>000001.SZ</td>\n",
       "      <td>2024-02-05</td>\n",
       "      <td>9.19</td>\n",
       "      <td>9.43</td>\n",
       "      <td>9.11</td>\n",
       "      <td>9.38</td>\n",
       "      <td>1803591.90</td>\n",
       "    </tr>\n",
       "    <tr>\n",
       "      <th>5680</th>\n",
       "      <td>000001.SZ</td>\n",
       "      <td>2024-02-06</td>\n",
       "      <td>9.30</td>\n",
       "      <td>9.68</td>\n",
       "      <td>9.29</td>\n",
       "      <td>9.68</td>\n",
       "      <td>1995409.54</td>\n",
       "    </tr>\n",
       "    <tr>\n",
       "      <th>5681</th>\n",
       "      <td>000001.SZ</td>\n",
       "      <td>2024-02-07</td>\n",
       "      <td>9.62</td>\n",
       "      <td>9.67</td>\n",
       "      <td>9.48</td>\n",
       "      <td>9.61</td>\n",
       "      <td>2062014.97</td>\n",
       "    </tr>\n",
       "  </tbody>\n",
       "</table>\n",
       "<p>511 rows × 7 columns</p>\n",
       "</div>"
      ],
      "text/plain": [
       "        ts_code trade_date   open   high    low  close         vol\n",
       "5171  000001.SZ 2022-01-04  16.48  16.66  16.18  16.66  1169259.33\n",
       "5172  000001.SZ 2022-01-05  16.58  17.22  16.55  17.15  1961998.17\n",
       "5173  000001.SZ 2022-01-06  17.11  17.27  17.00  17.12  1107885.19\n",
       "5174  000001.SZ 2022-01-07  17.10  17.28  17.06  17.20  1126630.70\n",
       "5175  000001.SZ 2022-01-10  17.29  17.42  17.03  17.19   909774.01\n",
       "...         ...        ...    ...    ...    ...    ...         ...\n",
       "5677  000001.SZ 2024-02-01   9.41   9.48   9.34   9.41  1055259.87\n",
       "5678  000001.SZ 2024-02-02   9.42   9.47   9.07   9.27  1634214.31\n",
       "5679  000001.SZ 2024-02-05   9.19   9.43   9.11   9.38  1803591.90\n",
       "5680  000001.SZ 2024-02-06   9.30   9.68   9.29   9.68  1995409.54\n",
       "5681  000001.SZ 2024-02-07   9.62   9.67   9.48   9.61  2062014.97\n",
       "\n",
       "[511 rows x 7 columns]"
      ]
     },
     "execution_count": 30,
     "metadata": {},
     "output_type": "execute_result"
    }
   ],
   "source": [
    "df[(df[\"trade_date\"] >= \"2022-01-01\") & (df[\"trade_date\"] <= \"2024-02-08\")]"
   ]
  },
  {
   "cell_type": "code",
   "execution_count": 60,
   "metadata": {},
   "outputs": [],
   "source": [
    "\"\"\"\n",
    "测试svm在多种股票中的效果\n",
    "\"\"\"\n",
    "\n",
    "# 数据准备\n",
    "import tushare as ts\n",
    "import numpy as np\n",
    "import pandas as pd\n",
    "import matplotlib.pyplot as plt\n",
    "import time\n",
    "\n",
    "\n",
    "def get_data(stockPath, start, end, window_len=20):\n",
    "    # 数据获取\n",
    "    # 1.数据准备\n",
    "    df = pd.read_csv(stockPath)\n",
    "    # 索引重新编号\n",
    "    df = df.reset_index(drop=True)\n",
    "    df.trade_date = pd.to_datetime(df.trade_date.apply(str))\n",
    "    df = df[\n",
    "        (df[\"trade_date\"] >= start) & (df[\"trade_date\"] <= end)\n",
    "    ]  # 日期格式参考：\"2022-01-01\"\n",
    "    # 判断涨跌\n",
    "    df[\"label\"] = df[\"close\"] - df[\"open\"]\n",
    "    # 转换为二维数组\n",
    "    arr = df[[\"close\", \"label\"]].values\n",
    "    # 特征提取及标注标签\n",
    "    X = []\n",
    "    Label = []\n",
    "    window_len = 15\n",
    "    # 遍历数组\n",
    "    for i in range(len(arr) - window_len - 1):\n",
    "        X.append(arr[i : i + window_len, 0])\n",
    "        if arr[i + window_len, 1] > 0:\n",
    "            Label.append(1)\n",
    "        else:\n",
    "            Label.append(0)\n",
    "    # 划分训练集和测试集\n",
    "    train_len = len(X) - 15\n",
    "    X_train = X[:train_len]\n",
    "    Label_train = Label[:train_len]\n",
    "    X_test = X[train_len:]\n",
    "    Label_test = Label[train_len:]\n",
    "    return X_train, Label_train, X_test, Label_test"
   ]
  },
  {
   "cell_type": "code",
   "execution_count": 71,
   "metadata": {},
   "outputs": [
    {
     "name": "stdout",
     "output_type": "stream",
     "text": [
      "训练集分数： ./backtrade实战/data/002095.SZ.csv 0.5248447204968945\n",
      "测试集分数： ./backtrade实战/data/002095.SZ.csv 0.4\n",
      "训练集分数： ./backtrade实战/data/002224.SZ.csv 0.5403726708074534\n",
      "测试集分数： ./backtrade实战/data/002224.SZ.csv 0.7333333333333333\n",
      "训练集分数： ./backtrade实战/data/605056.SH.csv 0.5726351351351351\n",
      "测试集分数： ./backtrade实战/data/605056.SH.csv 0.4\n",
      "训练集分数： ./backtrade实战/data/600606.SH.csv 0.5598335067637877\n",
      "测试集分数： ./backtrade实战/data/600606.SH.csv 0.6\n",
      "训练集分数： ./backtrade实战/data/300810.SZ.csv 0.5227743271221532\n",
      "测试集分数： ./backtrade实战/data/300810.SZ.csv 0.2\n",
      "训练集分数： ./backtrade实战/data/688266.SH.csv 0.5509989484752892\n",
      "测试集分数： ./backtrade实战/data/688266.SH.csv 0.6666666666666666\n",
      "训练集分数： ./backtrade实战/data/002370.SZ.csv 0.5579710144927537\n",
      "测试集分数： ./backtrade实战/data/002370.SZ.csv 0.7333333333333333\n",
      "训练集分数： ./backtrade实战/data/605303.SH.csv 0.5363372093023255\n",
      "测试集分数： ./backtrade实战/data/605303.SH.csv 0.7333333333333333\n",
      "训练集分数： ./backtrade实战/data/836270.BJ.csv 0.5488958990536278\n",
      "测试集分数： ./backtrade实战/data/836270.BJ.csv 0.3333333333333333\n",
      "训练集分数： ./backtrade实战/data/301107.SZ.csv 0.5538461538461539\n",
      "测试集分数： ./backtrade实战/data/301107.SZ.csv 0.26666666666666666\n",
      "训练集分数： ./backtrade实战/data/002738.SZ.csv 0.5372670807453416\n",
      "测试集分数： ./backtrade实战/data/002738.SZ.csv 0.6666666666666666\n",
      "训练集分数： ./backtrade实战/data/002687.SZ.csv 0.5269151138716356\n",
      "测试集分数： ./backtrade实战/data/002687.SZ.csv 0.7333333333333333\n",
      "训练集分数： ./backtrade实战/data/688737.SH.csv 0.583804143126177\n",
      "测试集分数： ./backtrade实战/data/688737.SH.csv 0.7333333333333333\n",
      "训练集分数： ./backtrade实战/data/002137.SZ.csv 0.567287784679089\n",
      "测试集分数： ./backtrade实战/data/002137.SZ.csv 0.3333333333333333\n",
      "训练集分数： ./backtrade实战/data/600266.SH.csv 0.5745341614906833\n",
      "测试集分数： ./backtrade实战/data/600266.SH.csv 0.6\n",
      "训练集分数： ./backtrade实战/data/600989.SH.csv 0.5383022774327122\n",
      "测试集分数： ./backtrade实战/data/600989.SH.csv 0.8\n",
      "训练集分数： ./backtrade实战/data/603839.SH.csv 0.5527950310559007\n",
      "测试集分数： ./backtrade实战/data/603839.SH.csv 0.8\n",
      "训练集分数： ./backtrade实战/data/300912.SZ.csv 0.5566037735849056\n",
      "测试集分数： ./backtrade实战/data/300912.SZ.csv 0.8\n",
      "训练集分数： ./backtrade实战/data/002329.SZ.csv 0.5393374741200828\n",
      "测试集分数： ./backtrade实战/data/002329.SZ.csv 0.7333333333333333\n",
      "训练集分数： ./backtrade实战/data/688160.SH.csv 0.5480895915678524\n",
      "测试集分数： ./backtrade实战/data/688160.SH.csv 0.6666666666666666\n",
      "训练集分数： ./backtrade实战/data/600749.SH.csv 0.5679916317991632\n",
      "测试集分数： ./backtrade实战/data/600749.SH.csv 0.3333333333333333\n",
      "训练集分数： ./backtrade实战/data/000798.SZ.csv 0.5559006211180124\n",
      "测试集分数： ./backtrade实战/data/000798.SZ.csv 0.4666666666666667\n",
      "训练集分数： ./backtrade实战/data/870357.BJ.csv 0.5724907063197026\n",
      "测试集分数： ./backtrade实战/data/870357.BJ.csv 0.4666666666666667\n",
      "训练集分数： ./backtrade实战/data/002783.SZ.csv 0.5579710144927537\n",
      "测试集分数： ./backtrade实战/data/002783.SZ.csv 0.6666666666666666\n",
      "训练集分数： ./backtrade实战/data/600855.SH.csv 0.55175983436853\n",
      "测试集分数： ./backtrade实战/data/600855.SH.csv 0.6666666666666666\n",
      "训练集分数： ./backtrade实战/data/603590.SH.csv 0.5652173913043478\n",
      "测试集分数： ./backtrade实战/data/603590.SH.csv 0.26666666666666666\n",
      "训练集分数： ./backtrade实战/data/000878.SZ.csv 0.55175983436853\n",
      "测试集分数： ./backtrade实战/data/000878.SZ.csv 0.6666666666666666\n",
      "训练集分数： ./backtrade实战/data/688118.SH.csv 0.5641821946169773\n",
      "测试集分数： ./backtrade实战/data/688118.SH.csv 0.7333333333333333\n",
      "训练集分数： ./backtrade实战/data/002835.SZ.csv 0.556935817805383\n",
      "测试集分数： ./backtrade实战/data/002835.SZ.csv 0.7333333333333333\n",
      "训练集分数： ./backtrade实战/data/301558.SZ.csv 0.7719298245614035\n",
      "测试集分数： ./backtrade实战/data/301558.SZ.csv 0.5333333333333333\n",
      "训练集分数： ./backtrade实战/data/002022.SZ.csv 0.5474452554744526\n",
      "测试集分数： ./backtrade实战/data/002022.SZ.csv 0.7333333333333333\n",
      "训练集分数： ./backtrade实战/data/688720.SH.csv 1.0\n",
      "测试集分数： ./backtrade实战/data/688720.SH.csv 0.7333333333333333\n",
      "训练集分数： ./backtrade实战/data/600310.SH.csv 0.5602094240837696\n",
      "测试集分数： ./backtrade实战/data/600310.SH.csv 0.6666666666666666\n",
      "训练集分数： ./backtrade实战/data/000935.SZ.csv 0.5351966873706004\n",
      "测试集分数： ./backtrade实战/data/000935.SZ.csv 0.6666666666666666\n",
      "训练集分数： ./backtrade实战/data/688533.SH.csv 0.5321100917431193\n",
      "测试集分数： ./backtrade实战/data/688533.SH.csv 0.8\n",
      "训练集分数： ./backtrade实战/data/688016.SH.csv 0.5341614906832298\n",
      "测试集分数： ./backtrade实战/data/688016.SH.csv 0.4666666666666667\n",
      "训练集分数： ./backtrade实战/data/002709.SZ.csv 0.5134575569358178\n",
      "测试集分数： ./backtrade实战/data/002709.SZ.csv 0.7333333333333333\n",
      "训练集分数： ./backtrade实战/data/002947.SZ.csv 0.5331262939958592\n",
      "测试集分数： ./backtrade实战/data/002947.SZ.csv 0.7333333333333333\n",
      "训练集分数： ./backtrade实战/data/000151.SZ.csv 0.5631469979296067\n",
      "测试集分数： ./backtrade实战/data/000151.SZ.csv 0.6666666666666666\n",
      "训练集分数： ./backtrade实战/data/603696.SH.csv 0.562111801242236\n",
      "测试集分数： ./backtrade实战/data/603696.SH.csv 0.26666666666666666\n",
      "训练集分数： ./backtrade实战/data/688103.SH.csv 0.5848375451263538\n",
      "测试集分数： ./backtrade实战/data/688103.SH.csv 0.4\n",
      "训练集分数： ./backtrade实战/data/300400.SZ.csv 0.5755693581780539\n",
      "测试集分数： ./backtrade实战/data/300400.SZ.csv 0.26666666666666666\n",
      "训练集分数： ./backtrade实战/data/002168.SZ.csv 0.5365344467640919\n",
      "测试集分数： ./backtrade实战/data/002168.SZ.csv 0.6666666666666666\n",
      "训练集分数： ./backtrade实战/data/301063.SZ.csv 0.5586080586080586\n",
      "测试集分数： ./backtrade实战/data/301063.SZ.csv 0.7333333333333333\n",
      "训练集分数： ./backtrade实战/data/601399.SH.csv 0.5515643105446119\n",
      "测试集分数： ./backtrade实战/data/601399.SH.csv 0.6666666666666666\n",
      "训练集分数： ./backtrade实战/data/001308.SZ.csv 0.5902777777777778\n",
      "测试集分数： ./backtrade实战/data/001308.SZ.csv 0.6\n",
      "训练集分数： ./backtrade实战/data/688610.SH.csv 0.7777777777777778\n",
      "测试集分数： ./backtrade实战/data/688610.SH.csv 0.4\n",
      "训练集分数： ./backtrade实战/data/300192.SZ.csv 0.55175983436853\n",
      "测试集分数： ./backtrade实战/data/300192.SZ.csv 0.6666666666666666\n",
      "训练集分数： ./backtrade实战/data/688163.SH.csv 0.5812356979405034\n",
      "测试集分数： ./backtrade实战/data/688163.SH.csv 0.6666666666666666\n",
      "训练集分数： ./backtrade实战/data/301098.SZ.csv 0.5852713178294574\n",
      "测试集分数： ./backtrade实战/data/301098.SZ.csv 0.8\n",
      "训练集分数平均： 0.5716797322459732\n",
      "训练集分数最高： 1.0 最低： 0.5134575569358178\n",
      "测试集分数平均: 0.596\n",
      "测试集分数最高: 0.8 最低： 0.2\n"
     ]
    }
   ],
   "source": [
    "def random_stocks(stock_num):\n",
    "    import os\n",
    "    import random\n",
    "    # random.seed(0.1)\n",
    "    filenames = os.listdir(\"./backtrade实战/data\")\n",
    "    stock_choices = random.choices(filenames, k=stock_num)\n",
    "    return [\"./backtrade实战/data/{}\".format(filename) for filename in stock_choices]\n",
    "\n",
    "choice_stocks = random_stocks(50)\n",
    "train_scores = []\n",
    "test_scores = []\n",
    "for stockPath in choice_stocks:\n",
    "    X_train, Label_train, X_test, Label_test = get_data(stockPath, '2020-01-01', '2024-02-07')\n",
    "    # 实例化SVM模型\n",
    "    svm = SVC(kernel=\"linear\")\n",
    "    # 模型训练\n",
    "    svm.fit(X_train, Label_train)\n",
    "    # 模型预测结果\n",
    "    prediction = svm.predict(X_train)\n",
    "    train_score = accuracy_score(Label_train, prediction)\n",
    "    print('训练集分数：',stockPath, train_score)\n",
    "    train_scores.append(train_score)\n",
    "    prediction = svm.predict(X_test)\n",
    "    test_score = accuracy_score(Label_test, prediction)\n",
    "    test_scores.append(test_score)\n",
    "    print('测试集分数：', stockPath, test_score)\n",
    "print('训练集分数平均：', np.average(train_scores))\n",
    "print('训练集分数最高：', np.max(train_scores), '最低：', np.min(train_scores))\n",
    "print('测试集分数平均:', np.average(test_scores))\n",
    "print('测试集分数最高:', np.max(test_scores), '最低：', np.min(test_scores))"
   ]
  },
  {
   "cell_type": "markdown",
   "metadata": {},
   "source": [
    "- 2020-01-01 ~ 2024-02-07 50随机股 预测15天 测试集分数平均 窗口20: 0.5533333333333332  0.5559999999999999 0.5946666666666667\n",
    "- 2020-01-01 ~ 2024-02-07 100随机股 预测15天 测试集分数平均 窗口20: 0.586\n",
    "- 2020-01-01 ~ 2024-02-07 50随机股 预测15天 测试集分数平均 窗口30: 0.5586666666666668\n",
    "- 2020-01-01 ~ 2024-02-07 50随机股 预测15天 测试集分数平均 窗口15: 0.5613333333333334 0.588\n",
    "\n",
    "- 2023-01-01 ~ 2024-02-07 50随机股 预测15天 测试集分数平均: 0.5146666666666666\n",
    "- 2022-01-01 ~ 2024-02-07 50随机股 预测15天 测试集分数平均: 0.5266666666666666\n",
    "- 2021-01-01 ~ 2024-02-07 50随机股 预测15天 测试集分数平均: 0.5479999999999999\n",
    "- 2018-01-01 ~ 2024-02-07 50随机股 预测15天 测试集分数平均: 0.5479999999999999\n",
    "- 2010-01-01 ~ 2024-02-07 50随机股 预测15天 测试集分数平均: 0.5213333333333333"
   ]
  },
  {
   "cell_type": "code",
   "execution_count": null,
   "metadata": {},
   "outputs": [],
   "source": []
  },
  {
   "cell_type": "code",
   "execution_count": 19,
   "metadata": {},
   "outputs": [
    {
     "name": "stdout",
     "output_type": "stream",
     "text": [
      "0.5545454545454546\n"
     ]
    }
   ],
   "source": [
    "X_test, Label_test = get_data(\"000004.SZ\", \"20230101\", \"20231231\")\n",
    "# 模型预测结果\n",
    "prediction = svm.predict(X_test)\n",
    "print(accuracy_score(Label_test, prediction))  # 0.6380090497737556"
   ]
  },
  {
   "cell_type": "code",
   "execution_count": 62,
   "metadata": {},
   "outputs": [
    {
     "data": {
      "text/plain": [
       "[1, 1, 0, 0, 0, 0, 1, 0, 1, 0, 0, 0, 0, 0, 0, 1]"
      ]
     },
     "execution_count": 62,
     "metadata": {},
     "output_type": "execute_result"
    }
   ],
   "source": [
    "list(prediction)"
   ]
  },
  {
   "cell_type": "code",
   "execution_count": null,
   "metadata": {},
   "outputs": [],
   "source": []
  }
 ],
 "metadata": {
  "kernelspec": {
   "display_name": "Python 3",
   "language": "python",
   "name": "python3"
  },
  "language_info": {
   "codemirror_mode": {
    "name": "ipython",
    "version": 3
   },
   "file_extension": ".py",
   "mimetype": "text/x-python",
   "name": "python",
   "nbconvert_exporter": "python",
   "pygments_lexer": "ipython3",
   "version": "3.10.6"
  }
 },
 "nbformat": 4,
 "nbformat_minor": 2
}
