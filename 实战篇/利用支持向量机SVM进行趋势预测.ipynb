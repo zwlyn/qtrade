{
 "cells": [
  {
   "cell_type": "code",
   "execution_count": 1,
   "metadata": {},
   "outputs": [],
   "source": [
    "\"\"\"\n",
    "- Skearn库是Python机器中常用的第三方库，其中对常用的机器学习方法、模型评估、数据预处理和特征提取方法进行了封装\n",
    "\"\"\"\n",
    "# 数据准备\n",
    "import tushare as ts\n",
    "import numpy as np\n",
    "import pandas as pd\n",
    "import matplotlib.pyplot as plt\n",
    "import time\n",
    "\n",
    "\n",
    "def get_data(code, start, end, window_len=20):\n",
    "    # 数据获取\n",
    "    # 1.数据准备\n",
    "    pro = ts.pro_api(\"20231208200557-1a9c3fbc-4615-474e-8445-26c2a0019fc0\")\n",
    "    pro._DataApi__http_url = \"http://tsapi.majors.ltd:7000\"\n",
    "    df = pro.daily(\n",
    "        ts_code=code,\n",
    "        start_date=start,\n",
    "        end_date=end,\n",
    "        fields=\"ts_code,trade_date,open,close\",\n",
    "    )\n",
    "    df = df.reindex(index=df.index[::-1])\n",
    "    # 索引重新编号\n",
    "    df = df.reset_index(drop=True)\n",
    "    # 判断涨跌\n",
    "    df[\"label\"] = df[\"close\"] - df[\"open\"]\n",
    "    # 转换为二维数组\n",
    "    arr = df[[\"close\", \"label\"]].values\n",
    "    # 特征提取及标注标签\n",
    "    X = []\n",
    "    Label = []\n",
    "    window_len = 20\n",
    "    # 遍历数组\n",
    "    for i in range(len(arr) - window_len - 1):\n",
    "        X.append(arr[i : i + window_len, 0])\n",
    "        if arr[i + window_len, 1] > 0:\n",
    "            Label.append(1)\n",
    "        else:\n",
    "            Label.append(0)\n",
    "\n",
    "    # 划分训练集和测试集\n",
    "    train_len = int(len(X) / 3) * 2\n",
    "    X_train = X[:train_len]\n",
    "    Label_train = Label[:train_len]\n",
    "    X_test = X[train_len:]\n",
    "    Label_test = Label[train_len:]\n",
    "    return X_train, Label_train, X_test, Label_test\n",
    "\n"
   ]
  },
  {
   "cell_type": "code",
   "execution_count": 26,
   "metadata": {},
   "outputs": [],
   "source": [
    "X_train, Label_train, X_test, Label_test = get_data(\"000001.SZ\", \"20230101\", \"20231201\")"
   ]
  },
  {
   "cell_type": "code",
   "execution_count": 33,
   "metadata": {},
   "outputs": [],
   "source": [
    "# X_train"
   ]
  },
  {
   "cell_type": "code",
   "execution_count": 30,
   "metadata": {},
   "outputs": [
    {
     "name": "stdout",
     "output_type": "stream",
     "text": [
      "[0 0 0 0 0 0 0 0 0 1 1 0 0 0 0 0 1 1 0 0 0 0 0 1 1 1 0 0 0 0 0 1 1 0 0 0 0\n",
      " 1 1 1 1 0 0 0 0 0 1 0 0 0 0 0 0 0 0 1 0 1 0 0 0 0 0 0 0 0 0 0 0 0 0 0 0 0\n",
      " 0 0 0 0 0 1 1 1 0 0 1 0 0 0 1 1 1 0 0 0 1 1 0 0 0 0 0 0 0 1 1 1 1 0 0 0 0\n",
      " 0 0 0 0 0 0 0 0 0 0 0 0 0 0 0 0 0 0 0 0 0 0 0]\n"
     ]
    }
   ],
   "source": [
    "from sklearn.svm import SVC\n",
    "# 实例化SVM模型\n",
    "svm = SVC(kernel='linear')\n",
    "# 模型训练\n",
    "svm.fit(X_train, Label_train)\n",
    "# 模型预测结果\n",
    "prediction = svm.predict(X_train)\n",
    "print(prediction)"
   ]
  },
  {
   "cell_type": "code",
   "execution_count": 32,
   "metadata": {},
   "outputs": [
    {
     "data": {
      "text/plain": [
       "134"
      ]
     },
     "execution_count": 32,
     "metadata": {},
     "output_type": "execute_result"
    }
   ],
   "source": [
    "len(Label_train)"
   ]
  },
  {
   "cell_type": "code",
   "execution_count": null,
   "metadata": {},
   "outputs": [],
   "source": []
  },
  {
   "cell_type": "code",
   "execution_count": 24,
   "metadata": {},
   "outputs": [
    {
     "name": "stdout",
     "output_type": "stream",
     "text": [
      "0.5614406779661016\n"
     ]
    }
   ],
   "source": [
    "from sklearn.metrics import accuracy_score\n",
    "# 计算模型预测准确率\n",
    "print(accuracy_score(Label_train, prediction))"
   ]
  },
  {
   "cell_type": "code",
   "execution_count": 25,
   "metadata": {},
   "outputs": [
    {
     "name": "stdout",
     "output_type": "stream",
     "text": [
      "0.5508474576271186\n"
     ]
    }
   ],
   "source": [
    "# 模型预测结果\n",
    "prediction = svm.predict(X_test)\n",
    "print(accuracy_score(Label_test, prediction))"
   ]
  },
  {
   "cell_type": "code",
   "execution_count": 6,
   "metadata": {},
   "outputs": [],
   "source": [
    "import talib\n",
    "# 通过ATR,RSI,CCI,MA等指标及收盘价来预测第二天的涨跌\n",
    "def get_data2(code, start, end, timeperiod=14):\n",
    "    # 数据获取\n",
    "    # 1.数据准备\n",
    "    pro = ts.pro_api(\"20231208200557-1a9c3fbc-4615-474e-8445-26c2a0019fc0\")\n",
    "    pro._DataApi__http_url = \"http://tsapi.majors.ltd:7000\"\n",
    "    df = pro.daily(\n",
    "        ts_code=code,\n",
    "        start_date=start,\n",
    "        end_date=end,\n",
    "        fields=\"ts_code,trade_date,open,close, high, low\",\n",
    "    )\n",
    "    df = df.reindex(index=df.index[::-1])\n",
    "    # 索引重新编号\n",
    "    df = df.reset_index(drop=True)\n",
    "    # 判断涨跌\n",
    "    df[\"label\"] = df[\"close\"] - df[\"open\"]\n",
    "    # 计算其他指标\n",
    "    df['MA'] = talib.MA(df['close'], timeperiod=timeperiod)\n",
    "    df['ATR'] = talib.ATR(df['high'], df['low'], df['close'], timeperiod=timeperiod)\n",
    "    df['RSI'] = talib.RSI(df['close'], timeperiod=timeperiod)\n",
    "    df['CCI'] = talib.CCI(df['high'], df['low'], df['close'], timeperiod=timeperiod)\n",
    "    # 删除包含空值的行数据\n",
    "    df = df.dropna()\n",
    "    # 转换为二维数组\n",
    "    arr = df[[\"close\", \"label\", 'MA', 'ATR', 'RSI', 'CCI']].values\n",
    "    # 特征提取及标注标签\n",
    "    X = []\n",
    "    Label = []\n",
    "    window_len = 20\n",
    "    # 遍历数组\n",
    "    for i in range(len(arr) - window_len - 1):\n",
    "        X.append(arr[i : i + window_len, 0])\n",
    "        if arr[i + window_len, 1] > 0:\n",
    "            Label.append(1)\n",
    "        else:\n",
    "            Label.append(0)\n",
    "\n",
    "    # 划分训练集和测试集\n",
    "    train_len = int(len(X) / 3) * 2\n",
    "    X_train = X[:train_len]\n",
    "    Label_train = Label[:train_len]\n",
    "    X_test = X[train_len:]\n",
    "    Label_test = Label[train_len:]\n",
    "    return X_train, Label_train, X_test, Label_test"
   ]
  },
  {
   "cell_type": "code",
   "execution_count": 15,
   "metadata": {},
   "outputs": [
    {
     "name": "stdout",
     "output_type": "stream",
     "text": [
      "0.5576923076923077\n"
     ]
    }
   ],
   "source": [
    "from sklearn.svm import SVC\n",
    "from sklearn.metrics import accuracy_score\n",
    "\n",
    "X_train, Label_train, X_test, Label_test = get_data2(\"000001.SZ\", \"20180101\", \"20231201\")\n",
    "# 实例化SVM模型\n",
    "svm = SVC(kernel='linear')\n",
    "# 模型训练\n",
    "svm.fit(X_train, Label_train)\n",
    "# 模型预测结果\n",
    "prediction = svm.predict(X_test)\n",
    "print(accuracy_score(Label_test, prediction))"
   ]
  },
  {
   "cell_type": "code",
   "execution_count": 16,
   "metadata": {},
   "outputs": [
    {
     "name": "stdout",
     "output_type": "stream",
     "text": [
      "0.5578158458244111\n"
     ]
    }
   ],
   "source": [
    "# 实例化SVM模型\n",
    "svm = SVC(kernel=\"linear\")\n",
    "# 模型训练\n",
    "svm.fit(X_train, Label_train)\n",
    "# 模型预测结果\n",
    "prediction = svm.predict(X_train)\n",
    "print(accuracy_score(Label_train, prediction))"
   ]
  },
  {
   "cell_type": "code",
   "execution_count": 34,
   "metadata": {},
   "outputs": [],
   "source": [
    "\"\"\"\n",
    "- Skearn库是Python机器中常用的第三方库，其中对常用的机器学习方法、模型评估、数据预处理和特征提取方法进行了封装\n",
    "\"\"\"\n",
    "\n",
    "# 数据准备\n",
    "import tushare as ts\n",
    "import numpy as np\n",
    "import pandas as pd\n",
    "import matplotlib.pyplot as plt\n",
    "import time\n",
    "\n",
    "\n",
    "def get_data(code, start, end, window_len=20):\n",
    "    # 数据获取\n",
    "    # 1.数据准备\n",
    "    pro = ts.pro_api(\"20231208200557-1a9c3fbc-4615-474e-8445-26c2a0019fc0\")\n",
    "    pro._DataApi__http_url = \"http://tsapi.majors.ltd:7000\"\n",
    "    df = pro.daily(\n",
    "        ts_code=code,\n",
    "        start_date=start,\n",
    "        end_date=end,\n",
    "        fields=\"ts_code,trade_date,open,close\",\n",
    "    )\n",
    "    df = df.reindex(index=df.index[::-1])\n",
    "    # 索引重新编号\n",
    "    df = df.reset_index(drop=True)\n",
    "    # 判断涨跌\n",
    "    df[\"label\"] = df[\"close\"] - df[\"open\"]\n",
    "    # 转换为二维数组\n",
    "    arr = df[[\"close\", \"label\"]].values\n",
    "    # 特征提取及标注标签\n",
    "    X = []\n",
    "    Label = []\n",
    "    window_len = 20\n",
    "    # 遍历数组\n",
    "    for i in range(len(arr) - window_len - 1):\n",
    "        X.append(arr[i : i + window_len, 0])\n",
    "        if arr[i + window_len, 1] > 0:\n",
    "            Label.append(1)\n",
    "        else:\n",
    "            Label.append(0)\n",
    "    return X, Label"
   ]
  },
  {
   "cell_type": "code",
   "execution_count": 101,
   "metadata": {},
   "outputs": [
    {
     "name": "stdout",
     "output_type": "stream",
     "text": [
      "0.5248046520079956\n"
     ]
    }
   ],
   "source": [
    "X, Label = get_data(\"000042.SZ\", \"20000101\", \"20231231\")\n",
    "# 实例化SVM模型\n",
    "svm = SVC(kernel=\"linear\")\n",
    "# 模型训练\n",
    "svm.fit(X, Label)\n",
    "# 模型预测结果\n",
    "prediction = svm.predict(X)\n",
    "print(accuracy_score(Label, prediction))\n",
    "# 0.5209294075913444"
   ]
  },
  {
   "cell_type": "code",
   "execution_count": 102,
   "metadata": {},
   "outputs": [
    {
     "name": "stdout",
     "output_type": "stream",
     "text": [
      "0.47058823529411764\n"
     ]
    }
   ],
   "source": [
    "X_test, Label_test = get_data(\"000042.SZ\", \"20230101\", \"20231231\")\n",
    "# 模型预测结果\n",
    "prediction = svm.predict(X_test)\n",
    "print(accuracy_score(Label_test, prediction))  # 0.6380090497737556"
   ]
  },
  {
   "cell_type": "code",
   "execution_count": 62,
   "metadata": {},
   "outputs": [
    {
     "data": {
      "text/plain": [
       "[1, 1, 0, 0, 0, 0, 1, 0, 1, 0, 0, 0, 0, 0, 0, 1]"
      ]
     },
     "execution_count": 62,
     "metadata": {},
     "output_type": "execute_result"
    }
   ],
   "source": [
    "list(prediction)"
   ]
  },
  {
   "cell_type": "code",
   "execution_count": null,
   "metadata": {},
   "outputs": [],
   "source": []
  }
 ],
 "metadata": {
  "kernelspec": {
   "display_name": "Python 3",
   "language": "python",
   "name": "python3"
  },
  "language_info": {
   "codemirror_mode": {
    "name": "ipython",
    "version": 3
   },
   "file_extension": ".py",
   "mimetype": "text/x-python",
   "name": "python",
   "nbconvert_exporter": "python",
   "pygments_lexer": "ipython3",
   "version": "3.10.6"
  }
 },
 "nbformat": 4,
 "nbformat_minor": 2
}
